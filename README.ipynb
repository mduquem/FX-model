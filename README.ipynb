{
 "cells": [
  {
   "cell_type": "markdown",
   "metadata": {},
   "source": [
    "# Redes neuronales artificiales y tasa de cambio: un enfoque desde la microestructura financiera"
   ]
  },
  {
   "cell_type": "markdown",
   "metadata": {},
   "source": [
    "## 1) Metodología"
   ]
  },
  {
   "cell_type": "markdown",
   "metadata": {},
   "source": [
    "#### Flujo de órdenes\n",
    "\n",
    "O'Harad (1995) define la microestructura de un mercado como los mecanismos específicos a ese mercado que inciden en el proceso de formación de precios. Evans & Lyons (2001) demuestran la importancia de la variable de flujo de órdenes en la formación de precios de las divisas en un mercado cambiario. El flujo de órdenes es una variable de la microestructura de este mercado en específico ya que solo está disponible para los agentes de este mercado de manera inmediata (se muestra usualmente en las pantallas de los agentes)."
   ]
  },
  {
   "cell_type": "markdown",
   "metadata": {},
   "source": [
    "El flujo de órdenes se define como el flujo acumulado de las transacciones *marcadas* en un mercado cambiario. Es decir, cuando una transacción se inicia en el mercado, un trader anuncia a través de un 'quote' su intención de vender o comprar divisa extranjera. Luego, otro agente actúa sobre este anuncio y la transacción se concreta. Definimos el primer trader como el 'market maker' y el segundo como el 'agresor' de este último. De esta manera, si el 'agresor' compra divisa extranjera (el 'market maker' vende), la transacción es *marcada* con un $+1$. De lo contrario, si el 'agresor' vende divisa extranjera, actuando sobre el anuncio de un 'market maker', la transacción sería *marcada* con un $-1$.\n",
    "\n",
    "Así, si por ejemplo un agente actúa sobre 10 anuncios en una hora, 4 en los que compra y 6 en los que vende, se dice que tiene un flujo de órdenes neto de $ + 4 - 6 = -2$ para esa hora. \n",
    "\n",
    "Es importante recalcar que el flujo de órdenes **no** es una representación de la oferta y la demanda en el mercado ya que solamente tiene en cuenta las transacciones que efectivamente se realizan y no los prospectos de transacciones posibles.\n",
    "\n",
    "El flujo de órdenes en una hora determinada $k$ es entonces la sumatoria del flujo de órdenes neto de todos los agentes en el mercado, \n",
    "$$ X_{k} = \\sum_{i=1}^N T_{i,k} $$ donde $T_{i,k}$ representa el flujo de órdenes neto del trader $i$ en la hora $k$."
   ]
  },
  {
   "attachments": {},
   "cell_type": "markdown",
   "metadata": {},
   "source": [
    "#### Redes neuronales artificiales recurrentes\n",
    "\n",
    "Con el aumento en la disponibilidad de los datos y la capacidad de cómputo, los modelos de tipo redes neuronales artificiales han empezado a ser cada vez más pertinentes a la hora de modelar relaciones entre variables matemáticas altamente no lineales. \n",
    "Más recientemente, este tipo de modelos han empezado a ser usados en contextos de predicción de precios en mercados financieros (Financial Markets Department Bank of Canada, 2000).\n",
    "\n",
    "Este tipo de modelos utilizan una función de costo para determinar los pesos asignados a las diferentes variables independientes, las cuales son llamadas 'capas de entrada'. Este proceso se ve reflejado en las 'capas ocultas' de la red neuronal. De esta manera, cada capa de este tipo representa una forma funcional distinta e independiente de las otras que sirve para la predicción final de la 'capa de salida'. Este proceso se puede ver reflejado en la imagen adjunta.\n",
    "\n",
    "\n",
    "![Basic Neural Net](neuralnet.png)\n",
    "\n",
    "\n",
    "Por otro lado, a diferencia de una red neuronal sencilla, las redes neuronales artificiales recurrentes poseen una capa adicional llamada 'celda estado' que prioriza información pasada relevante para la predicción en el siguiente periodo. Es decir, este tipo de redes neuronales utilizan información pasada (por ejemplo, información en $t-10$) como 'contexto' pertinente y relevante para la predicción de $t+1$.\n",
    "Sin embargo, este modelo tiene el problema de que puede llegar a poner demasiado énfasis en la información pasada, creado así dependencias de largo plazo. Para solucionar este problema, Hochreiter & Schmidhuber (1997) introdujeron las redes neuronales de tipo Long Short-Term Memory (LSTM) que le permitía al modelo 'olvidar' la información pasada que no era relevante, en los casos donde es más relevante aquella que ocurrió hace no mucho tiempo.\n",
    "\n",
    "![Memory Cell](memory_cell.png)"
   ]
  },
  {
   "cell_type": "markdown",
   "metadata": {},
   "source": [
    "En conclusión, para modelar los retornos en el siguiente periodo $r_{t+1}$, se implementará un modelo de tipo LSTM que tendrá como variables independientes principales los retornos en los dos últimos periodos $r_{t}$ y $r_{t-1}$, el precio de cierre $P_{t}$ y $P_{t-1}$ y el flujo de órdenes $ X_{t}$ y $ X_{t-1}$.\n",
    "Además se pretende controlar por la volatilidad $\\sigma_{t}$ y $\\sigma_{t-1}$, por los anuncios macroeconómicos observados en el mercado $A_{t}$ y $A_{t-1}$ y el número total de transacciones como proxy del volúmen total transado $N_{t}$ y $N_{t-1}$.\n",
    "\n",
    "De esta manera, asumimos que los retornos son función de las variables determinadas anteriormente más una variable aleatoria de error $v \\sim N(0,1)$:\n",
    "\n",
    "$$r_{t+1} \n",
    "= m(r_{t}, r_{t-1}, X_{t}, X_{t-1}, N_{t}, \n",
    "N_{t-1}, \\sigma_{t}, \\sigma_{t-1}, A_{t}, A_{t-1}, v_{t})$$\n",
    "\n",
    "\n",
    "\n",
    "\n",
    "El algoritmo hará entonces la estimación formal de la siguiente función a través de un modelo de redes neuronales artificiales recurrentes de tipo LSTM:\n",
    "$$r_{t+1} = f[\\sum_{k=1}^K \\alpha_{k} g(\\sum_{j=1}^J \\beta_{k, j} X_{j} )] $$ donde $r_{t+1}$ son los retornos en el siguiente periodo, K es el número de neuronas en la  `hidden layer', J es el número de variables independientes, $\\alpha_{k}$ y $\\beta_{k, j}$ son los pesos para las variables y $X_{j}$ son los valores de la j-ésima variable independiente."
   ]
  },
  {
   "cell_type": "code",
   "execution_count": null,
   "metadata": {},
   "outputs": [],
   "source": []
  },
  {
   "cell_type": "code",
   "execution_count": null,
   "metadata": {},
   "outputs": [],
   "source": []
  },
  {
   "cell_type": "markdown",
   "metadata": {},
   "source": [
    "## 2) Datos"
   ]
  },
  {
   "cell_type": "code",
   "execution_count": null,
   "metadata": {},
   "outputs": [],
   "source": []
  },
  {
   "cell_type": "code",
   "execution_count": 14,
   "metadata": {},
   "outputs": [],
   "source": [
    "import pandas as pd \n",
    "data = pd.read_csv(\"datos_py_3.csv\", parse_dates=[\"date\"])"
   ]
  },
  {
   "cell_type": "code",
   "execution_count": 7,
   "metadata": {},
   "outputs": [
    {
     "data": {
      "text/html": [
       "<div>\n",
       "<style scoped>\n",
       "    .dataframe tbody tr th:only-of-type {\n",
       "        vertical-align: middle;\n",
       "    }\n",
       "\n",
       "    .dataframe tbody tr th {\n",
       "        vertical-align: top;\n",
       "    }\n",
       "\n",
       "    .dataframe thead th {\n",
       "        text-align: right;\n",
       "    }\n",
       "</style>\n",
       "<table border=\"1\" class=\"dataframe\">\n",
       "  <thead>\n",
       "    <tr style=\"text-align: right;\">\n",
       "      <th></th>\n",
       "      <th>date</th>\n",
       "      <th>price</th>\n",
       "      <th>last_sale_price_in _hour</th>\n",
       "      <th>average_price</th>\n",
       "      <th>sd_of_purchase_prices_in_hour</th>\n",
       "      <th>sd_of _sale_prices_in_hour</th>\n",
       "      <th>number_of_trades</th>\n",
       "      <th>number_of_announcements</th>\n",
       "      <th>order_flow</th>\n",
       "      <th>change_price</th>\n",
       "    </tr>\n",
       "  </thead>\n",
       "  <tbody>\n",
       "    <tr>\n",
       "      <th>0</th>\n",
       "      <td>1/05/96 6:00</td>\n",
       "      <td>1.5336</td>\n",
       "      <td>1.5337</td>\n",
       "      <td>1.53365</td>\n",
       "      <td>0.111270</td>\n",
       "      <td>0.191485</td>\n",
       "      <td>11</td>\n",
       "      <td>0</td>\n",
       "      <td>3</td>\n",
       "      <td>0.000000</td>\n",
       "    </tr>\n",
       "    <tr>\n",
       "      <th>1</th>\n",
       "      <td>1/05/96 7:00</td>\n",
       "      <td>1.5322</td>\n",
       "      <td>1.5325</td>\n",
       "      <td>1.53235</td>\n",
       "      <td>0.805260</td>\n",
       "      <td>1.019570</td>\n",
       "      <td>48</td>\n",
       "      <td>2</td>\n",
       "      <td>22</td>\n",
       "      <td>-0.000913</td>\n",
       "    </tr>\n",
       "    <tr>\n",
       "      <th>2</th>\n",
       "      <td>1/05/96 8:00</td>\n",
       "      <td>1.5300</td>\n",
       "      <td>1.5318</td>\n",
       "      <td>1.53090</td>\n",
       "      <td>0.758654</td>\n",
       "      <td>0.700872</td>\n",
       "      <td>45</td>\n",
       "      <td>0</td>\n",
       "      <td>-3</td>\n",
       "      <td>-0.001437</td>\n",
       "    </tr>\n",
       "    <tr>\n",
       "      <th>3</th>\n",
       "      <td>1/05/96 9:00</td>\n",
       "      <td>1.5316</td>\n",
       "      <td>1.5343</td>\n",
       "      <td>1.53295</td>\n",
       "      <td>0.589491</td>\n",
       "      <td>0.633114</td>\n",
       "      <td>53</td>\n",
       "      <td>0</td>\n",
       "      <td>-13</td>\n",
       "      <td>0.001045</td>\n",
       "    </tr>\n",
       "    <tr>\n",
       "      <th>4</th>\n",
       "      <td>1/05/96 10:00</td>\n",
       "      <td>1.5350</td>\n",
       "      <td>1.5347</td>\n",
       "      <td>1.53485</td>\n",
       "      <td>0.863529</td>\n",
       "      <td>0.698212</td>\n",
       "      <td>157</td>\n",
       "      <td>0</td>\n",
       "      <td>17</td>\n",
       "      <td>0.002217</td>\n",
       "    </tr>\n",
       "  </tbody>\n",
       "</table>\n",
       "</div>"
      ],
      "text/plain": [
       "            date   price  last_sale_price_in _hour  average_price  \\\n",
       "0   1/05/96 6:00  1.5336                    1.5337        1.53365   \n",
       "1   1/05/96 7:00  1.5322                    1.5325        1.53235   \n",
       "2   1/05/96 8:00  1.5300                    1.5318        1.53090   \n",
       "3   1/05/96 9:00  1.5316                    1.5343        1.53295   \n",
       "4  1/05/96 10:00  1.5350                    1.5347        1.53485   \n",
       "\n",
       "   sd_of_purchase_prices_in_hour  sd_of _sale_prices_in_hour  \\\n",
       "0                       0.111270                    0.191485   \n",
       "1                       0.805260                    1.019570   \n",
       "2                       0.758654                    0.700872   \n",
       "3                       0.589491                    0.633114   \n",
       "4                       0.863529                    0.698212   \n",
       "\n",
       "   number_of_trades  number_of_announcements  order_flow  change_price  \n",
       "0                11                        0           3      0.000000  \n",
       "1                48                        2          22     -0.000913  \n",
       "2                45                        0          -3     -0.001437  \n",
       "3                53                        0         -13      0.001045  \n",
       "4               157                        0          17      0.002217  "
      ]
     },
     "execution_count": 7,
     "metadata": {},
     "output_type": "execute_result"
    }
   ],
   "source": [
    "data.head()"
   ]
  },
  {
   "cell_type": "code",
   "execution_count": 6,
   "metadata": {},
   "outputs": [
    {
     "data": {
      "text/plain": [
       "(1032, 10)"
      ]
     },
     "execution_count": 6,
     "metadata": {},
     "output_type": "execute_result"
    }
   ],
   "source": [
    "data.shape"
   ]
  },
  {
   "cell_type": "code",
   "execution_count": 11,
   "metadata": {},
   "outputs": [
    {
     "data": {
      "text/plain": [
       "pandas.core.series.Series"
      ]
     },
     "execution_count": 11,
     "metadata": {},
     "output_type": "execute_result"
    }
   ],
   "source": [
    "x = pd.to_datetime(x, dayfirst=True)\n",
    "type(x)"
   ]
  },
  {
   "cell_type": "code",
   "execution_count": 6,
   "metadata": {},
   "outputs": [],
   "source": [
    "from bokeh.plotting import figure, output_file, show\n"
   ]
  },
  {
   "cell_type": "code",
   "execution_count": 11,
   "metadata": {},
   "outputs": [
    {
     "data": {
      "text/html": [
       "<div>\n",
       "<style scoped>\n",
       "    .dataframe tbody tr th:only-of-type {\n",
       "        vertical-align: middle;\n",
       "    }\n",
       "\n",
       "    .dataframe tbody tr th {\n",
       "        vertical-align: top;\n",
       "    }\n",
       "\n",
       "    .dataframe thead th {\n",
       "        text-align: right;\n",
       "    }\n",
       "</style>\n",
       "<table border=\"1\" class=\"dataframe\">\n",
       "  <thead>\n",
       "    <tr style=\"text-align: right;\">\n",
       "      <th></th>\n",
       "      <th>price</th>\n",
       "      <th>last_sale_price_in _hour</th>\n",
       "      <th>average_price</th>\n",
       "      <th>sd_of_purchase_prices_in_hour</th>\n",
       "      <th>sd_of _sale_prices_in_hour</th>\n",
       "      <th>number_of_trades</th>\n",
       "      <th>number_of_announcements</th>\n",
       "      <th>order_flow</th>\n",
       "      <th>change_price</th>\n",
       "    </tr>\n",
       "  </thead>\n",
       "  <tbody>\n",
       "    <tr>\n",
       "      <th>count</th>\n",
       "      <td>1032.000000</td>\n",
       "      <td>1032.000000</td>\n",
       "      <td>1032.000000</td>\n",
       "      <td>1032.000000</td>\n",
       "      <td>1032.000000</td>\n",
       "      <td>1032.000000</td>\n",
       "      <td>1032.000000</td>\n",
       "      <td>1032.000000</td>\n",
       "      <td>1032.000000</td>\n",
       "    </tr>\n",
       "    <tr>\n",
       "      <th>mean</th>\n",
       "      <td>1.509941</td>\n",
       "      <td>1.509881</td>\n",
       "      <td>1.509911</td>\n",
       "      <td>0.650256</td>\n",
       "      <td>0.655849</td>\n",
       "      <td>217.572674</td>\n",
       "      <td>0.890504</td>\n",
       "      <td>-0.303295</td>\n",
       "      <td>-0.000025</td>\n",
       "    </tr>\n",
       "    <tr>\n",
       "      <th>std</th>\n",
       "      <td>0.023997</td>\n",
       "      <td>0.024013</td>\n",
       "      <td>0.024003</td>\n",
       "      <td>0.451857</td>\n",
       "      <td>0.448047</td>\n",
       "      <td>147.590221</td>\n",
       "      <td>1.094305</td>\n",
       "      <td>30.902244</td>\n",
       "      <td>0.001258</td>\n",
       "    </tr>\n",
       "    <tr>\n",
       "      <th>min</th>\n",
       "      <td>1.467000</td>\n",
       "      <td>1.466900</td>\n",
       "      <td>1.466950</td>\n",
       "      <td>0.000000</td>\n",
       "      <td>0.000000</td>\n",
       "      <td>2.000000</td>\n",
       "      <td>0.000000</td>\n",
       "      <td>-100.000000</td>\n",
       "      <td>-0.012364</td>\n",
       "    </tr>\n",
       "    <tr>\n",
       "      <th>25%</th>\n",
       "      <td>1.485000</td>\n",
       "      <td>1.484800</td>\n",
       "      <td>1.484863</td>\n",
       "      <td>0.405025</td>\n",
       "      <td>0.410340</td>\n",
       "      <td>112.000000</td>\n",
       "      <td>0.000000</td>\n",
       "      <td>-18.000000</td>\n",
       "      <td>-0.000592</td>\n",
       "    </tr>\n",
       "    <tr>\n",
       "      <th>50%</th>\n",
       "      <td>1.520750</td>\n",
       "      <td>1.520550</td>\n",
       "      <td>1.520675</td>\n",
       "      <td>0.586431</td>\n",
       "      <td>0.587206</td>\n",
       "      <td>200.000000</td>\n",
       "      <td>1.000000</td>\n",
       "      <td>0.000000</td>\n",
       "      <td>0.000000</td>\n",
       "    </tr>\n",
       "    <tr>\n",
       "      <th>75%</th>\n",
       "      <td>1.530400</td>\n",
       "      <td>1.530325</td>\n",
       "      <td>1.530337</td>\n",
       "      <td>0.784171</td>\n",
       "      <td>0.798898</td>\n",
       "      <td>288.000000</td>\n",
       "      <td>1.000000</td>\n",
       "      <td>16.000000</td>\n",
       "      <td>0.000524</td>\n",
       "    </tr>\n",
       "    <tr>\n",
       "      <th>max</th>\n",
       "      <td>1.548600</td>\n",
       "      <td>1.549500</td>\n",
       "      <td>1.548550</td>\n",
       "      <td>6.964123</td>\n",
       "      <td>6.848557</td>\n",
       "      <td>1091.000000</td>\n",
       "      <td>6.000000</td>\n",
       "      <td>209.000000</td>\n",
       "      <td>0.009472</td>\n",
       "    </tr>\n",
       "  </tbody>\n",
       "</table>\n",
       "</div>"
      ],
      "text/plain": [
       "             price  last_sale_price_in _hour  average_price  \\\n",
       "count  1032.000000               1032.000000    1032.000000   \n",
       "mean      1.509941                  1.509881       1.509911   \n",
       "std       0.023997                  0.024013       0.024003   \n",
       "min       1.467000                  1.466900       1.466950   \n",
       "25%       1.485000                  1.484800       1.484863   \n",
       "50%       1.520750                  1.520550       1.520675   \n",
       "75%       1.530400                  1.530325       1.530337   \n",
       "max       1.548600                  1.549500       1.548550   \n",
       "\n",
       "       sd_of_purchase_prices_in_hour  sd_of _sale_prices_in_hour  \\\n",
       "count                    1032.000000                 1032.000000   \n",
       "mean                        0.650256                    0.655849   \n",
       "std                         0.451857                    0.448047   \n",
       "min                         0.000000                    0.000000   \n",
       "25%                         0.405025                    0.410340   \n",
       "50%                         0.586431                    0.587206   \n",
       "75%                         0.784171                    0.798898   \n",
       "max                         6.964123                    6.848557   \n",
       "\n",
       "       number_of_trades  number_of_announcements   order_flow  change_price  \n",
       "count       1032.000000              1032.000000  1032.000000   1032.000000  \n",
       "mean         217.572674                 0.890504    -0.303295     -0.000025  \n",
       "std          147.590221                 1.094305    30.902244      0.001258  \n",
       "min            2.000000                 0.000000  -100.000000     -0.012364  \n",
       "25%          112.000000                 0.000000   -18.000000     -0.000592  \n",
       "50%          200.000000                 1.000000     0.000000      0.000000  \n",
       "75%          288.000000                 1.000000    16.000000      0.000524  \n",
       "max         1091.000000                 6.000000   209.000000      0.009472  "
      ]
     },
     "execution_count": 11,
     "metadata": {},
     "output_type": "execute_result"
    }
   ],
   "source": [
    "data.describe()"
   ]
  },
  {
   "cell_type": "code",
   "execution_count": null,
   "metadata": {},
   "outputs": [],
   "source": []
  },
  {
   "cell_type": "code",
   "execution_count": 1,
   "metadata": {},
   "outputs": [
    {
     "ename": "NameError",
     "evalue": "name 'output_file' is not defined",
     "output_type": "error",
     "traceback": [
      "\u001b[0;31m---------------------------------------------------------------------------\u001b[0m",
      "\u001b[0;31mNameError\u001b[0m                                 Traceback (most recent call last)",
      "\u001b[0;32m<ipython-input-1-ade0e621bd51>\u001b[0m in \u001b[0;36m<module>\u001b[0;34m()\u001b[0m\n\u001b[1;32m      1\u001b[0m \u001b[0;31m#Plot\u001b[0m\u001b[0;34m\u001b[0m\u001b[0;34m\u001b[0m\u001b[0m\n\u001b[1;32m      2\u001b[0m \u001b[0;34m\u001b[0m\u001b[0m\n\u001b[0;32m----> 3\u001b[0;31m \u001b[0moutput_file\u001b[0m\u001b[0;34m(\u001b[0m\u001b[0;34m\"price_plot.html\"\u001b[0m\u001b[0;34m)\u001b[0m\u001b[0;34m\u001b[0m\u001b[0m\n\u001b[0m\u001b[1;32m      4\u001b[0m \u001b[0mf\u001b[0m \u001b[0;34m=\u001b[0m \u001b[0mfigure\u001b[0m\u001b[0;34m(\u001b[0m\u001b[0mlogo\u001b[0m\u001b[0;34m=\u001b[0m\u001b[0;32mNone\u001b[0m\u001b[0;34m,\u001b[0m \u001b[0msizing_mode\u001b[0m\u001b[0;34m=\u001b[0m\u001b[0;34m\"scale_width\"\u001b[0m\u001b[0;34m,\u001b[0m \u001b[0mx_axis_type\u001b[0m\u001b[0;34m=\u001b[0m\u001b[0;34m\"datetime\"\u001b[0m\u001b[0;34m)\u001b[0m\u001b[0;34m\u001b[0m\u001b[0m\n\u001b[1;32m      5\u001b[0m \u001b[0mf\u001b[0m\u001b[0;34m.\u001b[0m\u001b[0mline\u001b[0m\u001b[0;34m(\u001b[0m\u001b[0mdata\u001b[0m\u001b[0;34m[\u001b[0m\u001b[0;34m'date'\u001b[0m\u001b[0;34m]\u001b[0m\u001b[0;34m,\u001b[0m\u001b[0mdata\u001b[0m\u001b[0;34m[\u001b[0m\u001b[0;34m'price'\u001b[0m\u001b[0;34m]\u001b[0m\u001b[0;34m)\u001b[0m\u001b[0;34m\u001b[0m\u001b[0m\n",
      "\u001b[0;31mNameError\u001b[0m: name 'output_file' is not defined"
     ]
    }
   ],
   "source": [
    "#Plot\n",
    "\n",
    "output_file(\"price_plot.html\")\n",
    "f = figure(logo=None, sizing_mode=\"scale_width\", x_axis_type=\"datetime\")\n",
    "f.line(data['date'],data['price'])\n",
    "f.title.text = \"Flujo de órdenes vs precio\"\n",
    "show(f)"
   ]
  },
  {
   "cell_type": "markdown",
   "metadata": {},
   "source": [
    "## Bibliografía"
   ]
  },
  {
   "cell_type": "markdown",
   "metadata": {},
   "source": [
    "- O'Hara, Maureen, *Market Microstructure Theory*, Blackwell, Oxford, 1995\n",
    "- Martin D. D. Evans & Richard K. Lyons, 2001. *Portfolio Balance, Price Impact, and Secret Intervention*, NBER Working Papers 8356, National Bureau of Economic Research\n",
    "- Financial Markets Department Bank of Canada (2000). *The Application of Artificial Neural Networks to Exchange Rate Forecasting: The Role of Market Microstructure Variables*. Ottawa, Ontario, Canada.\n",
    "- Hochreiter & Schmidhuber (1997) *Long Short-Term Memory*, Neural Computation  "
   ]
  }
 ],
 "metadata": {
  "kernelspec": {
   "display_name": "Python 3",
   "language": "python",
   "name": "python3"
  },
  "language_info": {
   "codemirror_mode": {
    "name": "ipython",
    "version": 3
   },
   "file_extension": ".py",
   "mimetype": "text/x-python",
   "name": "python",
   "nbconvert_exporter": "python",
   "pygments_lexer": "ipython3",
   "version": "3.6.2"
  }
 },
 "nbformat": 4,
 "nbformat_minor": 2
}
