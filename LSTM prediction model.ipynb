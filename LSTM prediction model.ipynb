{
 "cells": [
  {
   "cell_type": "markdown",
   "metadata": {},
   "source": [
    "# Order Flow variable in LSTM forecast of the foreign exchange market\n",
    "\n"
   ]
  },
  {
   "cell_type": "code",
   "execution_count": null,
   "metadata": {},
   "outputs": [],
   "source": [
    "###### FALTA POR MEJORAR: \n",
    "#     - ROLLING WINDOW APPROACH FOR NEXT HOUR FORECAST\n",
    "#     - Modelar el gap entre hora de cierre y hora de apertura entre periodos de trading, ie. ¿Qué pasa entre\n",
    "#         6:00 y 18:00. Revisar literatura sobre técnicas para conseguirlo.\n",
    "#     - Para predicciones de más de un periodo: Rolling (no?) recursivo con simulaciones de Monte Carlo, Bootstrap, otros?\n",
    "#     - Pensar en modelar la volatilidad con GARCH para mejorar el modelo ARMA anterior. Varianza cambia condicional\n",
    "#         al periodo. \n",
    "#     - Revisar en literatura la elección de parámetros como 'hidden layer', 'epochs', 'batch_size', y OTROS\n",
    "#     - Revisar en la literatura relevancia económica de modelos de predicción de tasa de cambio, porque ANN??\n",
    "#     - Revisar el GRAVE PROBLEMA de conseguir los datos para Colombia en orden para que sea relevante e interesante"
   ]
  },
  {
   "cell_type": "code",
   "execution_count": 24,
   "metadata": {},
   "outputs": [],
   "source": [
    "import pandas as pd\n",
    "import numpy as np\n",
    "import matplotlib.pyplot as plt\n",
    "import seaborn as sns\n",
    "from datetime import datetime\n",
    "%matplotlib inline"
   ]
  },
  {
   "cell_type": "markdown",
   "metadata": {},
   "source": [
    "### Theorical framework"
   ]
  },
  {
   "cell_type": "markdown",
   "metadata": {},
   "source": [
    "The importance of the order flow, among other advances in financial microstructure, has dominated the foreign exchange markets forecast literature in the past decade. Using data from the Reuters Information System between april and august 1996, Evans & Lyons (2001) argumented that the order flow was responsible of nearly 30% of the change in the final price of the risky foreign financial asset. The order flow is calculated as follows: $$\\sum_{i=1}^{N}{(M_{i)} - (N_{i})}$$ Where $M_{i}$ represents the total buyer-initiated completed transactions and $N_{i}$ the total seller-initiated completed transactions in a given hour $i$.\n",
    "\n",
    "A genetic algorithm, as the artificial neural network, provides a straight-forward approach to model this highly non-linear process of price determination. Also, this approach is robust enough to omit the noise in the data.\n",
    "\n",
    "Furthermore, we need to implement a recurrent neural network (specifically a Long Short-Term Memory network) so that the modeling function can map the inputs to an output explicitly handling the new sequence dimension. Also, this kind of models can learn the temporal dependence from the data, which means that the context in a specific moment of time is taking into account by the modeling function."
   ]
  },
  {
   "cell_type": "markdown",
   "metadata": {},
   "source": [
    "### Time series to supervised learning dataset\n",
    "First of all, a transformation of the dataset from a time series-indexed to a supervised learning pandas array. The function we use to perform this transformation is available at https://machinelearningmastery.com/convert-time-series-supervised-learning-problem-python/"
   ]
  },
  {
   "cell_type": "code",
   "execution_count": 25,
   "metadata": {},
   "outputs": [],
   "source": [
    "from pandas import DataFrame\n",
    "from pandas import concat\n",
    "\n",
    "#Función de machinelearningmastery.com\n",
    "def series_to_supervised(data, n_in=1, n_out=1, dropnan=True):\n",
    "\t\"\"\"\n",
    "\tFrame a time series as a supervised learning dataset.\n",
    "\tArguments:\n",
    "\t\tdata: Sequence of observations as a list or NumPy array.\n",
    "\t\tn_in: Number of lag observations as input (X).\n",
    "\t\tn_out: Number of observations as output (y).\n",
    "\t\tdropnan: Boolean whether or not to drop rows with NaN values.\n",
    "\tReturns:\n",
    "\t\tPandas DataFrame of series framed for supervised learning.\n",
    "\t\"\"\"\n",
    "\tn_vars = 1 if type(data) is list else data.shape[1]\n",
    "\tdf = DataFrame(data)\n",
    "\tcols, names = list(), list()\n",
    "\t# input sequence (t-n, ... t-1)\n",
    "\tfor i in range(n_in, 0, -1):\n",
    "\t\tcols.append(df.shift(i))\n",
    "\t\tnames += [('var%d(t-%d)' % (j+1, i)) for j in range(n_vars)]\n",
    "\t# forecast sequence (t, t+1, ... t+n)\n",
    "\tfor i in range(0, n_out):\n",
    "\t\tcols.append(df.shift(-i))\n",
    "\t\tif i == 0:\n",
    "\t\t\tnames += [('var%d(t)' % (j+1)) for j in range(n_vars)]\n",
    "\t\telse:\n",
    "\t\t\tnames += [('var%d(t+%d)' % (j+1, i)) for j in range(n_vars)]\n",
    "\t# put it all together\n",
    "\tagg = concat(cols, axis=1)\n",
    "\tagg.columns = names\n",
    "\t# drop rows with NaN values\n",
    "\tif dropnan:\n",
    "\t\tagg.dropna(inplace=True)\n",
    "\treturn agg"
   ]
  },
  {
   "cell_type": "markdown",
   "metadata": {},
   "source": [
    "Initially we import the dataset from a csv file and format it to fit the transforming function. Then, descriptive statistics and the first rows are presented.\n",
    "\n",
    "It is important to note in it that the order flow variable is indeed correlate to the hourly change in price. "
   ]
  },
  {
   "cell_type": "code",
   "execution_count": 26,
   "metadata": {},
   "outputs": [
    {
     "data": {
      "text/html": [
       "<div>\n",
       "<style scoped>\n",
       "    .dataframe tbody tr th:only-of-type {\n",
       "        vertical-align: middle;\n",
       "    }\n",
       "\n",
       "    .dataframe tbody tr th {\n",
       "        vertical-align: top;\n",
       "    }\n",
       "\n",
       "    .dataframe thead th {\n",
       "        text-align: right;\n",
       "    }\n",
       "</style>\n",
       "<table border=\"1\" class=\"dataframe\">\n",
       "  <thead>\n",
       "    <tr style=\"text-align: right;\">\n",
       "      <th></th>\n",
       "      <th>price</th>\n",
       "      <th>last_sale_price_in _hour</th>\n",
       "      <th>average_price</th>\n",
       "      <th>sd_of_purchase_prices_in_hour</th>\n",
       "      <th>sd_of _sale_prices_in_hour</th>\n",
       "      <th>number_of_trades</th>\n",
       "      <th>number_of_announcements</th>\n",
       "      <th>order_flow</th>\n",
       "      <th>change_price</th>\n",
       "    </tr>\n",
       "  </thead>\n",
       "  <tbody>\n",
       "    <tr>\n",
       "      <th>count</th>\n",
       "      <td>1032.000000</td>\n",
       "      <td>1032.000000</td>\n",
       "      <td>1032.000000</td>\n",
       "      <td>1032.000000</td>\n",
       "      <td>1032.000000</td>\n",
       "      <td>1032.000000</td>\n",
       "      <td>1032.000000</td>\n",
       "      <td>1032.000000</td>\n",
       "      <td>1032.000000</td>\n",
       "    </tr>\n",
       "    <tr>\n",
       "      <th>mean</th>\n",
       "      <td>1.509941</td>\n",
       "      <td>1.509881</td>\n",
       "      <td>1.509911</td>\n",
       "      <td>0.650256</td>\n",
       "      <td>0.655849</td>\n",
       "      <td>217.572674</td>\n",
       "      <td>0.890504</td>\n",
       "      <td>-0.303295</td>\n",
       "      <td>-0.000025</td>\n",
       "    </tr>\n",
       "    <tr>\n",
       "      <th>std</th>\n",
       "      <td>0.023997</td>\n",
       "      <td>0.024013</td>\n",
       "      <td>0.024003</td>\n",
       "      <td>0.451857</td>\n",
       "      <td>0.448047</td>\n",
       "      <td>147.590221</td>\n",
       "      <td>1.094305</td>\n",
       "      <td>30.902244</td>\n",
       "      <td>0.001258</td>\n",
       "    </tr>\n",
       "    <tr>\n",
       "      <th>min</th>\n",
       "      <td>1.467000</td>\n",
       "      <td>1.466900</td>\n",
       "      <td>1.466950</td>\n",
       "      <td>0.000000</td>\n",
       "      <td>0.000000</td>\n",
       "      <td>2.000000</td>\n",
       "      <td>0.000000</td>\n",
       "      <td>-100.000000</td>\n",
       "      <td>-0.012364</td>\n",
       "    </tr>\n",
       "    <tr>\n",
       "      <th>25%</th>\n",
       "      <td>1.485000</td>\n",
       "      <td>1.484800</td>\n",
       "      <td>1.484863</td>\n",
       "      <td>0.405025</td>\n",
       "      <td>0.410340</td>\n",
       "      <td>112.000000</td>\n",
       "      <td>0.000000</td>\n",
       "      <td>-18.000000</td>\n",
       "      <td>-0.000592</td>\n",
       "    </tr>\n",
       "    <tr>\n",
       "      <th>50%</th>\n",
       "      <td>1.520750</td>\n",
       "      <td>1.520550</td>\n",
       "      <td>1.520675</td>\n",
       "      <td>0.586431</td>\n",
       "      <td>0.587206</td>\n",
       "      <td>200.000000</td>\n",
       "      <td>1.000000</td>\n",
       "      <td>0.000000</td>\n",
       "      <td>0.000000</td>\n",
       "    </tr>\n",
       "    <tr>\n",
       "      <th>75%</th>\n",
       "      <td>1.530400</td>\n",
       "      <td>1.530325</td>\n",
       "      <td>1.530337</td>\n",
       "      <td>0.784171</td>\n",
       "      <td>0.798898</td>\n",
       "      <td>288.000000</td>\n",
       "      <td>1.000000</td>\n",
       "      <td>16.000000</td>\n",
       "      <td>0.000524</td>\n",
       "    </tr>\n",
       "    <tr>\n",
       "      <th>max</th>\n",
       "      <td>1.548600</td>\n",
       "      <td>1.549500</td>\n",
       "      <td>1.548550</td>\n",
       "      <td>6.964123</td>\n",
       "      <td>6.848557</td>\n",
       "      <td>1091.000000</td>\n",
       "      <td>6.000000</td>\n",
       "      <td>209.000000</td>\n",
       "      <td>0.009472</td>\n",
       "    </tr>\n",
       "  </tbody>\n",
       "</table>\n",
       "</div>"
      ],
      "text/plain": [
       "             price  last_sale_price_in _hour  average_price  \\\n",
       "count  1032.000000               1032.000000    1032.000000   \n",
       "mean      1.509941                  1.509881       1.509911   \n",
       "std       0.023997                  0.024013       0.024003   \n",
       "min       1.467000                  1.466900       1.466950   \n",
       "25%       1.485000                  1.484800       1.484863   \n",
       "50%       1.520750                  1.520550       1.520675   \n",
       "75%       1.530400                  1.530325       1.530337   \n",
       "max       1.548600                  1.549500       1.548550   \n",
       "\n",
       "       sd_of_purchase_prices_in_hour  sd_of _sale_prices_in_hour  \\\n",
       "count                    1032.000000                 1032.000000   \n",
       "mean                        0.650256                    0.655849   \n",
       "std                         0.451857                    0.448047   \n",
       "min                         0.000000                    0.000000   \n",
       "25%                         0.405025                    0.410340   \n",
       "50%                         0.586431                    0.587206   \n",
       "75%                         0.784171                    0.798898   \n",
       "max                         6.964123                    6.848557   \n",
       "\n",
       "       number_of_trades  number_of_announcements   order_flow  change_price  \n",
       "count       1032.000000              1032.000000  1032.000000   1032.000000  \n",
       "mean         217.572674                 0.890504    -0.303295     -0.000025  \n",
       "std          147.590221                 1.094305    30.902244      0.001258  \n",
       "min            2.000000                 0.000000  -100.000000     -0.012364  \n",
       "25%          112.000000                 0.000000   -18.000000     -0.000592  \n",
       "50%          200.000000                 1.000000     0.000000      0.000000  \n",
       "75%          288.000000                 1.000000    16.000000      0.000524  \n",
       "max         1091.000000                 6.000000   209.000000      0.009472  "
      ]
     },
     "execution_count": 26,
     "metadata": {},
     "output_type": "execute_result"
    }
   ],
   "source": [
    "dataset = pd.read_csv('datos_py_3.csv', header=0, index_col=0)\n",
    "values = dataset.values\n",
    "values = values.astype('float32')\n",
    "dataset.describe()"
   ]
  },
  {
   "cell_type": "code",
   "execution_count": 9,
   "metadata": {},
   "outputs": [
    {
     "data": {
      "text/html": [
       "<div>\n",
       "<style scoped>\n",
       "    .dataframe tbody tr th:only-of-type {\n",
       "        vertical-align: middle;\n",
       "    }\n",
       "\n",
       "    .dataframe tbody tr th {\n",
       "        vertical-align: top;\n",
       "    }\n",
       "\n",
       "    .dataframe thead th {\n",
       "        text-align: right;\n",
       "    }\n",
       "</style>\n",
       "<table border=\"1\" class=\"dataframe\">\n",
       "  <thead>\n",
       "    <tr style=\"text-align: right;\">\n",
       "      <th></th>\n",
       "      <th>price</th>\n",
       "      <th>last_sale_price_in _hour</th>\n",
       "      <th>average_price</th>\n",
       "      <th>sd_of_purchase_prices_in_hour</th>\n",
       "      <th>sd_of _sale_prices_in_hour</th>\n",
       "      <th>number_of_trades</th>\n",
       "      <th>number_of_announcements</th>\n",
       "      <th>order_flow</th>\n",
       "      <th>change_price</th>\n",
       "    </tr>\n",
       "    <tr>\n",
       "      <th>date</th>\n",
       "      <th></th>\n",
       "      <th></th>\n",
       "      <th></th>\n",
       "      <th></th>\n",
       "      <th></th>\n",
       "      <th></th>\n",
       "      <th></th>\n",
       "      <th></th>\n",
       "      <th></th>\n",
       "    </tr>\n",
       "  </thead>\n",
       "  <tbody>\n",
       "    <tr>\n",
       "      <th>1/05/96 6:00</th>\n",
       "      <td>1.5336</td>\n",
       "      <td>1.5337</td>\n",
       "      <td>1.53365</td>\n",
       "      <td>0.111270</td>\n",
       "      <td>0.191485</td>\n",
       "      <td>11</td>\n",
       "      <td>0</td>\n",
       "      <td>3</td>\n",
       "      <td>0.000000</td>\n",
       "    </tr>\n",
       "    <tr>\n",
       "      <th>1/05/96 7:00</th>\n",
       "      <td>1.5322</td>\n",
       "      <td>1.5325</td>\n",
       "      <td>1.53235</td>\n",
       "      <td>0.805260</td>\n",
       "      <td>1.019570</td>\n",
       "      <td>48</td>\n",
       "      <td>2</td>\n",
       "      <td>22</td>\n",
       "      <td>-0.000913</td>\n",
       "    </tr>\n",
       "    <tr>\n",
       "      <th>1/05/96 8:00</th>\n",
       "      <td>1.5300</td>\n",
       "      <td>1.5318</td>\n",
       "      <td>1.53090</td>\n",
       "      <td>0.758654</td>\n",
       "      <td>0.700872</td>\n",
       "      <td>45</td>\n",
       "      <td>0</td>\n",
       "      <td>-3</td>\n",
       "      <td>-0.001437</td>\n",
       "    </tr>\n",
       "    <tr>\n",
       "      <th>1/05/96 9:00</th>\n",
       "      <td>1.5316</td>\n",
       "      <td>1.5343</td>\n",
       "      <td>1.53295</td>\n",
       "      <td>0.589491</td>\n",
       "      <td>0.633114</td>\n",
       "      <td>53</td>\n",
       "      <td>0</td>\n",
       "      <td>-13</td>\n",
       "      <td>0.001045</td>\n",
       "    </tr>\n",
       "    <tr>\n",
       "      <th>1/05/96 10:00</th>\n",
       "      <td>1.5350</td>\n",
       "      <td>1.5347</td>\n",
       "      <td>1.53485</td>\n",
       "      <td>0.863529</td>\n",
       "      <td>0.698212</td>\n",
       "      <td>157</td>\n",
       "      <td>0</td>\n",
       "      <td>17</td>\n",
       "      <td>0.002217</td>\n",
       "    </tr>\n",
       "  </tbody>\n",
       "</table>\n",
       "</div>"
      ],
      "text/plain": [
       "                price  last_sale_price_in _hour  average_price  \\\n",
       "date                                                             \n",
       "1/05/96 6:00   1.5336                    1.5337        1.53365   \n",
       "1/05/96 7:00   1.5322                    1.5325        1.53235   \n",
       "1/05/96 8:00   1.5300                    1.5318        1.53090   \n",
       "1/05/96 9:00   1.5316                    1.5343        1.53295   \n",
       "1/05/96 10:00  1.5350                    1.5347        1.53485   \n",
       "\n",
       "               sd_of_purchase_prices_in_hour  sd_of _sale_prices_in_hour  \\\n",
       "date                                                                       \n",
       "1/05/96 6:00                        0.111270                    0.191485   \n",
       "1/05/96 7:00                        0.805260                    1.019570   \n",
       "1/05/96 8:00                        0.758654                    0.700872   \n",
       "1/05/96 9:00                        0.589491                    0.633114   \n",
       "1/05/96 10:00                       0.863529                    0.698212   \n",
       "\n",
       "               number_of_trades  number_of_announcements  order_flow  \\\n",
       "date                                                                   \n",
       "1/05/96 6:00                 11                        0           3   \n",
       "1/05/96 7:00                 48                        2          22   \n",
       "1/05/96 8:00                 45                        0          -3   \n",
       "1/05/96 9:00                 53                        0         -13   \n",
       "1/05/96 10:00               157                        0          17   \n",
       "\n",
       "               change_price  \n",
       "date                         \n",
       "1/05/96 6:00       0.000000  \n",
       "1/05/96 7:00      -0.000913  \n",
       "1/05/96 8:00      -0.001437  \n",
       "1/05/96 9:00       0.001045  \n",
       "1/05/96 10:00      0.002217  "
      ]
     },
     "execution_count": 9,
     "metadata": {},
     "output_type": "execute_result"
    }
   ],
   "source": [
    "dataset.head()"
   ]
  },
  {
   "cell_type": "markdown",
   "metadata": {},
   "source": [
    "Finally, we can apply the transformation function so that our dataset takes the form of a supervised learning array that we can fit into the keras library algorithms."
   ]
  },
  {
   "cell_type": "code",
   "execution_count": 27,
   "metadata": {},
   "outputs": [],
   "source": [
    "reframed = series_to_supervised(values,1,1)"
   ]
  },
  {
   "cell_type": "markdown",
   "metadata": {},
   "source": [
    "We drop all explaining variables in time $t$ as we are only interested in the target variable at that moment of time. That way, we are left with an $X$ array of predictor variables in $t-1$ and a column vector $Y$ of the target variable in $t$."
   ]
  },
  {
   "cell_type": "code",
   "execution_count": 28,
   "metadata": {},
   "outputs": [
    {
     "data": {
      "text/html": [
       "<div>\n",
       "<style scoped>\n",
       "    .dataframe tbody tr th:only-of-type {\n",
       "        vertical-align: middle;\n",
       "    }\n",
       "\n",
       "    .dataframe tbody tr th {\n",
       "        vertical-align: top;\n",
       "    }\n",
       "\n",
       "    .dataframe thead th {\n",
       "        text-align: right;\n",
       "    }\n",
       "</style>\n",
       "<table border=\"1\" class=\"dataframe\">\n",
       "  <thead>\n",
       "    <tr style=\"text-align: right;\">\n",
       "      <th></th>\n",
       "      <th>var1(t-1)</th>\n",
       "      <th>var2(t-1)</th>\n",
       "      <th>var3(t-1)</th>\n",
       "      <th>var4(t-1)</th>\n",
       "      <th>var5(t-1)</th>\n",
       "      <th>var6(t-1)</th>\n",
       "      <th>var7(t-1)</th>\n",
       "      <th>var8(t-1)</th>\n",
       "      <th>var9(t-1)</th>\n",
       "      <th>var9(t)</th>\n",
       "    </tr>\n",
       "  </thead>\n",
       "  <tbody>\n",
       "    <tr>\n",
       "      <th>1</th>\n",
       "      <td>1.5336</td>\n",
       "      <td>1.5337</td>\n",
       "      <td>1.53365</td>\n",
       "      <td>0.111270</td>\n",
       "      <td>0.191485</td>\n",
       "      <td>11.0</td>\n",
       "      <td>0.0</td>\n",
       "      <td>3.0</td>\n",
       "      <td>0.000000</td>\n",
       "      <td>-0.000913</td>\n",
       "    </tr>\n",
       "    <tr>\n",
       "      <th>2</th>\n",
       "      <td>1.5322</td>\n",
       "      <td>1.5325</td>\n",
       "      <td>1.53235</td>\n",
       "      <td>0.805260</td>\n",
       "      <td>1.019570</td>\n",
       "      <td>48.0</td>\n",
       "      <td>2.0</td>\n",
       "      <td>22.0</td>\n",
       "      <td>-0.000913</td>\n",
       "      <td>-0.001437</td>\n",
       "    </tr>\n",
       "    <tr>\n",
       "      <th>3</th>\n",
       "      <td>1.5300</td>\n",
       "      <td>1.5318</td>\n",
       "      <td>1.53090</td>\n",
       "      <td>0.758654</td>\n",
       "      <td>0.700872</td>\n",
       "      <td>45.0</td>\n",
       "      <td>0.0</td>\n",
       "      <td>-3.0</td>\n",
       "      <td>-0.001437</td>\n",
       "      <td>0.001045</td>\n",
       "    </tr>\n",
       "    <tr>\n",
       "      <th>4</th>\n",
       "      <td>1.5316</td>\n",
       "      <td>1.5343</td>\n",
       "      <td>1.53295</td>\n",
       "      <td>0.589491</td>\n",
       "      <td>0.633114</td>\n",
       "      <td>53.0</td>\n",
       "      <td>0.0</td>\n",
       "      <td>-13.0</td>\n",
       "      <td>0.001045</td>\n",
       "      <td>0.002217</td>\n",
       "    </tr>\n",
       "    <tr>\n",
       "      <th>5</th>\n",
       "      <td>1.5350</td>\n",
       "      <td>1.5347</td>\n",
       "      <td>1.53485</td>\n",
       "      <td>0.863529</td>\n",
       "      <td>0.698212</td>\n",
       "      <td>157.0</td>\n",
       "      <td>0.0</td>\n",
       "      <td>17.0</td>\n",
       "      <td>0.002217</td>\n",
       "      <td>0.000000</td>\n",
       "    </tr>\n",
       "  </tbody>\n",
       "</table>\n",
       "</div>"
      ],
      "text/plain": [
       "   var1(t-1)  var2(t-1)  var3(t-1)  var4(t-1)  var5(t-1)  var6(t-1)  \\\n",
       "1     1.5336     1.5337    1.53365   0.111270   0.191485       11.0   \n",
       "2     1.5322     1.5325    1.53235   0.805260   1.019570       48.0   \n",
       "3     1.5300     1.5318    1.53090   0.758654   0.700872       45.0   \n",
       "4     1.5316     1.5343    1.53295   0.589491   0.633114       53.0   \n",
       "5     1.5350     1.5347    1.53485   0.863529   0.698212      157.0   \n",
       "\n",
       "   var7(t-1)  var8(t-1)  var9(t-1)   var9(t)  \n",
       "1        0.0        3.0   0.000000 -0.000913  \n",
       "2        2.0       22.0  -0.000913 -0.001437  \n",
       "3        0.0       -3.0  -0.001437  0.001045  \n",
       "4        0.0      -13.0   0.001045  0.002217  \n",
       "5        0.0       17.0   0.002217  0.000000  "
      ]
     },
     "execution_count": 28,
     "metadata": {},
     "output_type": "execute_result"
    }
   ],
   "source": [
    "reframed.drop(reframed.columns[[9,10,11,12,13,14,15,16]], axis=1, inplace=True)\n",
    "reframed.head()"
   ]
  },
  {
   "cell_type": "code",
   "execution_count": 30,
   "metadata": {},
   "outputs": [],
   "source": [
    "values = reframed.values\n",
    "n_train_hours = 1007\n",
    "train = values[:n_train_hours, :]\n",
    "test = values[n_train_hours:,:]\n",
    "train_X, train_y = train[:,:8], train[:,9]\n",
    "test_X, test_y = test[:,:8], test[:,9]"
   ]
  },
  {
   "cell_type": "markdown",
   "metadata": {},
   "source": [
    "Next we normalize the values so that the inputs are at a comparable range."
   ]
  },
  {
   "cell_type": "code",
   "execution_count": 31,
   "metadata": {},
   "outputs": [],
   "source": [
    "from sklearn.preprocessing import MinMaxScaler\n",
    "scaler = MinMaxScaler(feature_range=(0,1))\n",
    "scaled_train_x = scaler.fit_transform(train_X)\n",
    "scaled_test_x = scaler.fit_transform(test_X)"
   ]
  },
  {
   "cell_type": "code",
   "execution_count": 32,
   "metadata": {},
   "outputs": [],
   "source": [
    "train_X = scaled_train_x.reshape((scaled_train_x.shape[0], 1, scaled_train_x.shape[1]))\n",
    "test_X = scaled_test_x.reshape((scaled_test_x.shape[0], 1, scaled_test_x.shape[1]))"
   ]
  },
  {
   "cell_type": "markdown",
   "metadata": {},
   "source": [
    "### Hyper-parameters configuration\n",
    "We choose the mean squared error as our learning target to minimize, we set the number of epochs to 300, number of hidden layers to 5 and the batch size to 1 observation.\n",
    "\n",
    "We choose to train a multiceptron model of size 3 so the neural networks can model highly non-linear relationships between predictor variables. We hope that this approach can take into account convexities.\n",
    "\n",
    "The rest of the values do not follow a logic rule of specification but instead are chosen through experimentation until optimal results."
   ]
  },
  {
   "cell_type": "markdown",
   "metadata": {},
   "source": [
    "### Model Training\n",
    "Finally we can feed the algorithm with the data so the learning process can begin. At this stage we choose to implement a computationally efficient extension of the stochastic gradient descent called 'Adam'. Please see https://arxiv.org/abs/1412.6980 for further information. "
   ]
  },
  {
   "cell_type": "code",
   "execution_count": 81,
   "metadata": {},
   "outputs": [],
   "source": [
    "from math import sqrt\n",
    "from sklearn.metrics import mean_squared_error\n",
    "from keras.models import Sequential\n",
    "from keras.layers import Dense\n",
    "from keras.layers import LSTM\n",
    "\n",
    "model = Sequential()\n",
    "model.add(LSTM(5, input_shape=(train_X.shape[1], train_X.shape[2])))\n",
    "model.add(Dense(1))\n",
    "model.compile(loss='mean_squared_error', optimizer='adam')\n",
    "history = model.fit(train_X, train_y, epochs=300, batch_size=80, validation_data=(test_X, test_y), verbose=0, shuffle=False)"
   ]
  },
  {
   "cell_type": "code",
   "execution_count": 82,
   "metadata": {
    "scrolled": true
   },
   "outputs": [
    {
     "data": {
      "image/png": "[encoded data removed]",
      "text/plain": [
       "<Figure size 432x288 with 1 Axes>"
      ]
     },
     "metadata": {},
     "output_type": "display_data"
    }
   ],
   "source": [
    "plt.plot(history.history['loss'], label=\"train dataset\")\n",
    "plt.plot(history.history['val_loss'], label=\"test dataset\")\n",
    "plt.xlabel('Number of epochs')\n",
    "plt.ylabel('RMSE')\n",
    "plt.legend()\n",
    "plt.savefig('error_test.pdf', bbox_inches='tight')\n",
    "plt.show()"
   ]
  },
  {
   "cell_type": "code",
   "execution_count": 83,
   "metadata": {},
   "outputs": [
    {
     "name": "stdout",
     "output_type": "stream",
     "text": [
      "Test RMSE: 0.000036\n"
     ]
    }
   ],
   "source": [
    "from numpy import concatenate\n",
    "yhat = model.predict(test_X)\n",
    "rmse = mean_squared_error(test_y, yhat)\n",
    "print('Test RMSE: %.6f' % rmse)"
   ]
  },
  {
   "cell_type": "code",
   "execution_count": 84,
   "metadata": {},
   "outputs": [
    {
     "data": {
      "image/png": "[encoded data removed]",
      "text/plain": [
       "<Figure size 432x288 with 1 Axes>"
      ]
     },
     "metadata": {},
     "output_type": "display_data"
    }
   ],
   "source": [
    "plt.plot(yhat, label='Predictions')\n",
    "plt.plot(test_y, label='Observed values')\n",
    "plt.title('Change in price predictions')\n",
    "plt.xlabel('Time')\n",
    "plt.ylabel('Returns')\n",
    "plt.axhline(y=0, color='r', linestyle='-')\n",
    "plt.legend(loc='lower left')\n",
    "plt.savefig('predicciones_lstm.pdf', bbox_inches='tight')\n",
    "plt.show()"
   ]
  },
  {
   "cell_type": "code",
   "execution_count": 85,
   "metadata": {},
   "outputs": [
    {
     "name": "stderr",
     "output_type": "stream",
     "text": [
      "/Library/Frameworks/Python.framework/Versions/3.6/lib/python3.6/site-packages/ipykernel_launcher.py:1: FutureWarning: pd.ewm_mean is deprecated for ndarrays and will be removed in a future version\n",
      "  \"\"\"Entry point for launching an IPython kernel.\n"
     ]
    },
    {
     "data": {
      "image/png": "[encoded data removed]",
      "text/plain": [
       "<Figure size 432x288 with 1 Axes>"
      ]
     },
     "metadata": {},
     "output_type": "display_data"
    }
   ],
   "source": [
    "retornos_suavizados = pd.ewma(yhat, com=5)\n",
    "plt.plot(yhat, label='Predictions')\n",
    "plt.plot(test_y, label='Observed values')\n",
    "plt.plot(retornos_suavizados, label='10-hours EMA of the predictions')\n",
    "plt.title('Change in price prediction')\n",
    "plt.xlabel('Time')\n",
    "plt.ylabel('Returns')\n",
    "plt.axhline(y=0, color='r', linestyle='-')\n",
    "plt.legend()\n",
    "plt.savefig('predicciones_ema.pdf', bbox_inches='tight')\n",
    "plt.show()"
   ]
  },
  {
   "cell_type": "markdown",
   "metadata": {},
   "source": [
    "### Conclusions\n",
    "The predictions made by the algorithm for the next 24 hours are far more reliable and exact at the beginning hours. That being said, is possible that the prediction power of the order flow variable dissipates throughout the day. The root mean squared error of the model training is $$. \n",
    "\n",
    "The algorithm can model the functional form of the generating process quite accurately but it needs to be more precise. A hybrid approach or a rolling window scheme can elevate it.\n",
    "\n",
    "In consequence, the next logical approach is to set up a rolling window prediction system that predicts returns in FX market of the inmediate next hour and takes into account the values that have already happened."
   ]
  }
 ],
 "metadata": {
  "kernelspec": {
   "display_name": "Python 3",
   "language": "python",
   "name": "python3"
  },
  "language_info": {
   "codemirror_mode": {
    "name": "ipython",
    "version": 3
   },
   "file_extension": ".py",
   "mimetype": "text/x-python",
   "name": "python",
   "nbconvert_exporter": "python",
   "pygments_lexer": "ipython3",
   "version": "3.6.2"
  }
 },
 "nbformat": 4,
 "nbformat_minor": 2
}
